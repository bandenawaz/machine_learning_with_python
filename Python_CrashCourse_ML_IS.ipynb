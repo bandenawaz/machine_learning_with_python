{
  "nbformat": 4,
  "nbformat_minor": 0,
  "metadata": {
    "colab": {
      "provenance": [],
      "authorship_tag": "ABX9TyOJ91ltesbnfYT9TJoMSwuA",
      "include_colab_link": true
    },
    "kernelspec": {
      "name": "python3",
      "display_name": "Python 3"
    },
    "language_info": {
      "name": "python"
    }
  },
  "cells": [
    {
      "cell_type": "markdown",
      "metadata": {
        "id": "view-in-github",
        "colab_type": "text"
      },
      "source": [
        "<a href=\"https://colab.research.google.com/github/bandenawaz/machine_learning_with_python/blob/main/Python_CrashCourse_ML_IS.ipynb\" target=\"_parent\"><img src=\"https://colab.research.google.com/assets/colab-badge.svg\" alt=\"Open In Colab\"/></a>"
      ]
    },
    {
      "cell_type": "markdown",
      "source": [
        "**Integers**\n",
        "\n",
        "An integer can be thought of a numerical value without any decimal. We use integer value to represent a numeric data from negative infinity to positive infinity"
      ],
      "metadata": {
        "id": "lW2rpySqtQMr"
      }
    },
    {
      "cell_type": "code",
      "source": [
        "#lets define a integer value\n",
        "x = 10\n",
        "y = 20"
      ],
      "metadata": {
        "id": "AXcOMuh8trEh"
      },
      "execution_count": 2,
      "outputs": []
    },
    {
      "cell_type": "code",
      "source": [
        "#lets access the two variables\n",
        "print(\"X: \",x,\"Y: \",y)"
      ],
      "metadata": {
        "colab": {
          "base_uri": "https://localhost:8080/"
        },
        "id": "92hZlUXat8P3",
        "outputId": "16c186e2-e78a-4524-94b1-39568e31dbde"
      },
      "execution_count": 3,
      "outputs": [
        {
          "output_type": "stream",
          "name": "stdout",
          "text": [
            "X:  10 Y:  20\n"
          ]
        }
      ]
    },
    {
      "cell_type": "code",
      "source": [
        "#lets perform arithmetic operations on it.\n",
        "x + y"
      ],
      "metadata": {
        "colab": {
          "base_uri": "https://localhost:8080/"
        },
        "id": "rQ_g76jUuDnn",
        "outputId": "1d069056-86ca-4884-ac5e-47ba4127d81f"
      },
      "execution_count": 4,
      "outputs": [
        {
          "output_type": "execute_result",
          "data": {
            "text/plain": [
              "30"
            ]
          },
          "metadata": {},
          "execution_count": 4
        }
      ]
    },
    {
      "cell_type": "markdown",
      "source": [
        "**Float**\n",
        "A foat stands for decimal number, which means number with fractional parts. It can also be used to store rational numbers ending with decimal points."
      ],
      "metadata": {
        "id": "iVFGTkzQuZU9"
      }
    },
    {
      "cell_type": "code",
      "source": [
        "#lets define floating variables\n",
        "stock_price = 224.61\n",
        "height = 6.3\n",
        "weight = 80.6"
      ],
      "metadata": {
        "id": "GXDv64XNuvOs"
      },
      "execution_count": 5,
      "outputs": []
    },
    {
      "cell_type": "markdown",
      "source": [
        "**String**\n",
        "\n",
        "Its a sequence of characters which are enclosed within single or double quotes. Strings are immutable in nature."
      ],
      "metadata": {
        "id": "ev-4QN8JvVqM"
      }
    },
    {
      "cell_type": "code",
      "source": [
        "sample_string = '1% can also be expressed as 0.01 '\n",
        "print(sample_string)"
      ],
      "metadata": {
        "colab": {
          "base_uri": "https://localhost:8080/"
        },
        "id": "xOegr_nYu-FT",
        "outputId": "320a5203-8b8f-4c83-9aae-2aa1d18a5d88"
      },
      "execution_count": 6,
      "outputs": [
        {
          "output_type": "stream",
          "name": "stdout",
          "text": [
            "1% can also be expressed as 0.01 \n"
          ]
        }
      ]
    },
    {
      "cell_type": "code",
      "source": [],
      "metadata": {
        "id": "GogZ-j7XvvYb"
      },
      "execution_count": null,
      "outputs": []
    }
  ]
}