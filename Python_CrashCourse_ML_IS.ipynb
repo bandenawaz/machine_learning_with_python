{
  "nbformat": 4,
  "nbformat_minor": 0,
  "metadata": {
    "colab": {
      "provenance": [],
      "authorship_tag": "ABX9TyN74HIKDE6f/4WXlastpS/M",
      "include_colab_link": true
    },
    "kernelspec": {
      "name": "python3",
      "display_name": "Python 3"
    },
    "language_info": {
      "name": "python"
    }
  },
  "cells": [
    {
      "cell_type": "markdown",
      "metadata": {
        "id": "view-in-github",
        "colab_type": "text"
      },
      "source": [
        "<a href=\"https://colab.research.google.com/github/bandenawaz/machine_learning_with_python/blob/main/Python_CrashCourse_ML_IS.ipynb\" target=\"_parent\"><img src=\"https://colab.research.google.com/assets/colab-badge.svg\" alt=\"Open In Colab\"/></a>"
      ]
    },
    {
      "cell_type": "markdown",
      "source": [
        "**Integers**\n",
        "\n",
        "An integer can be thought of a numerical value without any decimal. We use integer value to represent a numeric data from negative infinity to positive infinity"
      ],
      "metadata": {
        "id": "lW2rpySqtQMr"
      }
    },
    {
      "cell_type": "code",
      "source": [
        "#lets define a integer value\n",
        "x = 10\n",
        "y = 20"
      ],
      "metadata": {
        "id": "AXcOMuh8trEh"
      },
      "execution_count": 2,
      "outputs": []
    },
    {
      "cell_type": "code",
      "source": [
        "#lets access the two variables\n",
        "print(\"X: \",x,\"Y: \",y)"
      ],
      "metadata": {
        "colab": {
          "base_uri": "https://localhost:8080/"
        },
        "id": "92hZlUXat8P3",
        "outputId": "16c186e2-e78a-4524-94b1-39568e31dbde"
      },
      "execution_count": 3,
      "outputs": [
        {
          "output_type": "stream",
          "name": "stdout",
          "text": [
            "X:  10 Y:  20\n"
          ]
        }
      ]
    },
    {
      "cell_type": "code",
      "source": [
        "#lets perform arithmetic operations on it.\n",
        "x + y"
      ],
      "metadata": {
        "colab": {
          "base_uri": "https://localhost:8080/"
        },
        "id": "rQ_g76jUuDnn",
        "outputId": "1d069056-86ca-4884-ac5e-47ba4127d81f"
      },
      "execution_count": 4,
      "outputs": [
        {
          "output_type": "execute_result",
          "data": {
            "text/plain": [
              "30"
            ]
          },
          "metadata": {},
          "execution_count": 4
        }
      ]
    },
    {
      "cell_type": "markdown",
      "source": [
        "**Float**\n",
        "A foat stands for decimal number, which means number with fractional parts. It can also be used to store rational numbers ending with decimal points."
      ],
      "metadata": {
        "id": "iVFGTkzQuZU9"
      }
    },
    {
      "cell_type": "code",
      "source": [
        "#lets define floating variables\n",
        "stock_price = 224.61\n",
        "height = 6.3\n",
        "weight = 80.6"
      ],
      "metadata": {
        "id": "GXDv64XNuvOs"
      },
      "execution_count": 5,
      "outputs": []
    },
    {
      "cell_type": "markdown",
      "source": [
        "**String**\n",
        "\n",
        "Its a sequence of characters which are enclosed within single or double quotes. Strings are immutable in nature."
      ],
      "metadata": {
        "id": "ev-4QN8JvVqM"
      }
    },
    {
      "cell_type": "code",
      "source": [
        "sample_string = '1% can also be expressed as 0.01 '\n",
        "print(sample_string)"
      ],
      "metadata": {
        "colab": {
          "base_uri": "https://localhost:8080/"
        },
        "id": "xOegr_nYu-FT",
        "outputId": "320a5203-8b8f-4c83-9aae-2aa1d18a5d88"
      },
      "execution_count": 6,
      "outputs": [
        {
          "output_type": "stream",
          "name": "stdout",
          "text": [
            "1% can also be expressed as 0.01 \n"
          ]
        }
      ]
    },
    {
      "cell_type": "code",
      "source": [
        "#Lets understand about string concatenation\n",
        "sp = '224.8'\n",
        "print('Price of AAPL is '+sp)"
      ],
      "metadata": {
        "colab": {
          "base_uri": "https://localhost:8080/"
        },
        "id": "GogZ-j7XvvYb",
        "outputId": "89427890-603d-4a93-89ed-b878cb6ead60"
      },
      "execution_count": 7,
      "outputs": [
        {
          "output_type": "stream",
          "name": "stdout",
          "text": [
            "Price of AAPL is 224.8\n"
          ]
        }
      ]
    },
    {
      "cell_type": "code",
      "source": [
        "print('Price of AAPL is '+x)"
      ],
      "metadata": {
        "colab": {
          "base_uri": "https://localhost:8080/",
          "height": 178
        },
        "id": "fC7oqBHtw8vE",
        "outputId": "e3bb0756-6dee-4831-eff4-711c510ae561"
      },
      "execution_count": 8,
      "outputs": [
        {
          "output_type": "error",
          "ename": "TypeError",
          "evalue": "ignored",
          "traceback": [
            "\u001b[0;31m---------------------------------------------------------------------------\u001b[0m",
            "\u001b[0;31mTypeError\u001b[0m                                 Traceback (most recent call last)",
            "\u001b[0;32m<ipython-input-8-a9a88b219883>\u001b[0m in \u001b[0;36m<cell line: 1>\u001b[0;34m()\u001b[0m\n\u001b[0;32m----> 1\u001b[0;31m \u001b[0mprint\u001b[0m\u001b[0;34m(\u001b[0m\u001b[0;34m'Price of AAPL is '\u001b[0m\u001b[0;34m+\u001b[0m\u001b[0mx\u001b[0m\u001b[0;34m)\u001b[0m\u001b[0;34m\u001b[0m\u001b[0;34m\u001b[0m\u001b[0m\n\u001b[0m",
            "\u001b[0;31mTypeError\u001b[0m: can only concatenate str (not \"int\") to str"
          ]
        }
      ]
    },
    {
      "cell_type": "markdown",
      "source": [
        "**Slicing**\n",
        "\n",
        "It is extracting a part or creating substring from the existing string.\n",
        "\n",
        "**syn: str[index] or str[start:end-1]**"
      ],
      "metadata": {
        "id": "GyoqtkuExJo0"
      }
    },
    {
      "cell_type": "code",
      "source": [
        "course = 'Machine Learning using Python'"
      ],
      "metadata": {
        "id": "o-Sm_0vlw-Sl"
      },
      "execution_count": 9,
      "outputs": []
    },
    {
      "cell_type": "code",
      "source": [
        "course"
      ],
      "metadata": {
        "colab": {
          "base_uri": "https://localhost:8080/",
          "height": 36
        },
        "id": "cGwfRFmhxs7w",
        "outputId": "fc857d56-3d0b-44c7-e7df-b8ff6335f231"
      },
      "execution_count": 10,
      "outputs": [
        {
          "output_type": "execute_result",
          "data": {
            "text/plain": [
              "'Machine Learning using Python'"
            ],
            "application/vnd.google.colaboratory.intrinsic+json": {
              "type": "string"
            }
          },
          "metadata": {},
          "execution_count": 10
        }
      ]
    },
    {
      "cell_type": "code",
      "source": [
        "course[0]"
      ],
      "metadata": {
        "colab": {
          "base_uri": "https://localhost:8080/",
          "height": 36
        },
        "id": "t-I3YhjwxvI2",
        "outputId": "e0bda2aa-3a59-41fb-f807-b2aed186b342"
      },
      "execution_count": 11,
      "outputs": [
        {
          "output_type": "execute_result",
          "data": {
            "text/plain": [
              "'M'"
            ],
            "application/vnd.google.colaboratory.intrinsic+json": {
              "type": "string"
            }
          },
          "metadata": {},
          "execution_count": 11
        }
      ]
    },
    {
      "cell_type": "code",
      "source": [
        "machine = course[:7]\n",
        "print(machine)"
      ],
      "metadata": {
        "colab": {
          "base_uri": "https://localhost:8080/"
        },
        "id": "sF2WIAUdx55o",
        "outputId": "13803aef-1d97-43c3-8a4f-8fcc56059cc1"
      },
      "execution_count": 13,
      "outputs": [
        {
          "output_type": "stream",
          "name": "stdout",
          "text": [
            "Machine\n"
          ]
        }
      ]
    },
    {
      "cell_type": "code",
      "source": [
        "print(machine[::2])"
      ],
      "metadata": {
        "colab": {
          "base_uri": "https://localhost:8080/"
        },
        "id": "kjuUZ3wayIII",
        "outputId": "3fd658a1-1d22-4e94-aff7-a8184f723005"
      },
      "execution_count": 14,
      "outputs": [
        {
          "output_type": "stream",
          "name": "stdout",
          "text": [
            "Mcie\n"
          ]
        }
      ]
    },
    {
      "cell_type": "code",
      "source": [
        "#lets reverse the given string\n",
        "machine[::-1]"
      ],
      "metadata": {
        "colab": {
          "base_uri": "https://localhost:8080/",
          "height": 36
        },
        "id": "JN6aQpJuyr2J",
        "outputId": "e5d1b3cb-fc42-409f-b4be-7524649954b3"
      },
      "execution_count": 15,
      "outputs": [
        {
          "output_type": "execute_result",
          "data": {
            "text/plain": [
              "'enihcaM'"
            ],
            "application/vnd.google.colaboratory.intrinsic+json": {
              "type": "string"
            }
          },
          "metadata": {},
          "execution_count": 15
        }
      ]
    },
    {
      "cell_type": "markdown",
      "source": [
        "**Type Conversion**\n",
        "\n",
        "Converting from one data type to another data type is called Type Conversion.\n",
        "\n",
        "There are two types of type conversion\n",
        "\n",
        "\n",
        "1.   Implicit\n",
        "2.   Explicit\n",
        "\n",
        "Implicit: This is an automatic type convesion and the Python interpreter handles this on the fly for us.\n",
        "\n"
      ],
      "metadata": {
        "id": "Iqm11tT-zK8T"
      }
    },
    {
      "cell_type": "code",
      "source": [
        "#Implicit Type Conversion\n",
        "8/2"
      ],
      "metadata": {
        "colab": {
          "base_uri": "https://localhost:8080/"
        },
        "id": "lFIIrCEqy2Vr",
        "outputId": "ad584f74-dd56-4181-8a66-ff336158871d"
      },
      "execution_count": 16,
      "outputs": [
        {
          "output_type": "execute_result",
          "data": {
            "text/plain": [
              "4.0"
            ]
          },
          "metadata": {},
          "execution_count": 16
        }
      ]
    },
    {
      "cell_type": "markdown",
      "source": [
        "**Explicit Type Conversion**\n",
        "\n",
        "This type of conversion is user-defined. We need to explicitly change the data type for certain literals to make it compatible for data operations."
      ],
      "metadata": {
        "id": "AQLfaNsJ0EXg"
      }
    },
    {
      "cell_type": "code",
      "source": [
        "'This is the year '+2023"
      ],
      "metadata": {
        "colab": {
          "base_uri": "https://localhost:8080/",
          "height": 178
        },
        "id": "WOW5Bl2Sz4cJ",
        "outputId": "33474ace-de1a-4880-d1ee-36c0ba629628"
      },
      "execution_count": 17,
      "outputs": [
        {
          "output_type": "error",
          "ename": "TypeError",
          "evalue": "ignored",
          "traceback": [
            "\u001b[0;31m---------------------------------------------------------------------------\u001b[0m",
            "\u001b[0;31mTypeError\u001b[0m                                 Traceback (most recent call last)",
            "\u001b[0;32m<ipython-input-17-1810d3509e9d>\u001b[0m in \u001b[0;36m<cell line: 1>\u001b[0;34m()\u001b[0m\n\u001b[0;32m----> 1\u001b[0;31m \u001b[0;34m'This is the year '\u001b[0m\u001b[0;34m+\u001b[0m\u001b[0;36m2023\u001b[0m\u001b[0;34m\u001b[0m\u001b[0;34m\u001b[0m\u001b[0m\n\u001b[0m",
            "\u001b[0;31mTypeError\u001b[0m: can only concatenate str (not \"int\") to str"
          ]
        }
      ]
    },
    {
      "cell_type": "code",
      "source": [
        "'This is the year '+str(2023)"
      ],
      "metadata": {
        "colab": {
          "base_uri": "https://localhost:8080/",
          "height": 36
        },
        "id": "xe-MKwBE0gKz",
        "outputId": "22a6cba6-5d2a-46bb-8174-092e81cd9faf"
      },
      "execution_count": 18,
      "outputs": [
        {
          "output_type": "execute_result",
          "data": {
            "text/plain": [
              "'This is the year 2023'"
            ],
            "application/vnd.google.colaboratory.intrinsic+json": {
              "type": "string"
            }
          },
          "metadata": {},
          "execution_count": 18
        }
      ]
    },
    {
      "cell_type": "code",
      "source": [
        "float(4)"
      ],
      "metadata": {
        "colab": {
          "base_uri": "https://localhost:8080/"
        },
        "id": "C-yFOubE0nbV",
        "outputId": "8668bdf1-999e-4663-e29a-c34295e511f8"
      },
      "execution_count": 19,
      "outputs": [
        {
          "output_type": "execute_result",
          "data": {
            "text/plain": [
              "4.0"
            ]
          },
          "metadata": {},
          "execution_count": 19
        }
      ]
    },
    {
      "cell_type": "code",
      "source": [],
      "metadata": {
        "id": "QvaUGBT30w-5"
      },
      "execution_count": null,
      "outputs": []
    }
  ]
}